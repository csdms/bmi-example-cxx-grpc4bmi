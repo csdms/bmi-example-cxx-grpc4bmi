{
 "cells": [
  {
   "cell_type": "markdown",
   "id": "a79c2779-9015-40b7-9a53-aa41c87880f5",
   "metadata": {},
   "source": [
    "# Run the C++ `Heat` model through *grpc4bmi*"
   ]
  },
  {
   "cell_type": "markdown",
   "id": "e4049ff7-5c9e-4479-81ea-1bba1fe4810c",
   "metadata": {},
   "source": [
    "Run the C++ `Heat` model in Python through [grpc4bmi](https://grpc4bmi.readthedocs.io).\n",
    "\n",
    "`Heat` models the diffusion of temperature on a uniform rectangular plate with Dirichlet boundary conditions.\n",
    "View the model source code and its BMI at https://github.com/csdms/bmi-example-cxx."
   ]
  },
  {
   "cell_type": "markdown",
   "id": "2ec7d6db-db56-4772-90df-34f3639cad4b",
   "metadata": {},
   "source": [
    "Start by importing some helper libraries."
   ]
  },
  {
   "cell_type": "code",
   "execution_count": null,
   "id": "46b137fd-a63c-4bbf-be9e-bf9dc24e9084",
   "metadata": {},
   "outputs": [],
   "source": [
    "import os\n",
    "import pathlib\n",
    "import numpy as np"
   ]
  },
  {
   "cell_type": "markdown",
   "id": "f324505d-234e-4c78-b0a3-bfbccc098f6e",
   "metadata": {},
   "source": [
    "Next, import the grpc4bmi Docker client."
   ]
  },
  {
   "cell_type": "code",
   "execution_count": null,
   "id": "8d903ed6-77e7-4b49-93f2-04c9ec6df813",
   "metadata": {},
   "outputs": [],
   "source": [
    "from grpc4bmi.bmi_client_docker import BmiClientDocker"
   ]
  },
  {
   "cell_type": "markdown",
   "id": "06be2075-9643-43ca-bfde-d1067bc4c27d",
   "metadata": {},
   "source": [
    "Set variables:\n",
    "* which Docker image to use,\n",
    "* the port exposed through the image, and\n",
    "* the location in the image of the configuration file used for the model."
   ]
  },
  {
   "cell_type": "code",
   "execution_count": null,
   "id": "35bee1ec-0263-4f04-ac7a-04f74b775791",
   "metadata": {},
   "outputs": [],
   "source": [
    "DOCKER_IMAGE = \"csdms/bmi-example-cxx-grpc4bmi:latest\"\n",
    "BMI_PORT = 55555\n",
    "CONFIG_FILE = pathlib.Path(\"/opt/bmi-example-cxx\") / \"testing\" / \"config.txt\""
   ]
  },
  {
   "cell_type": "markdown",
   "id": "f76b4e13-1fbc-4f87-be30-3e4b4e3016d3",
   "metadata": {},
   "source": [
    "Create a model instance (`m`) through the grpc4bmi Docker client."
   ]
  },
  {
   "cell_type": "code",
   "execution_count": null,
   "id": "a2bb4d5a-3e10-4de9-a30c-b6cabfa48c0f",
   "metadata": {},
   "outputs": [],
   "source": [
    "m = BmiClientDocker(image=DOCKER_IMAGE, image_port=BMI_PORT, work_dir=\".\")"
   ]
  },
  {
   "cell_type": "markdown",
   "id": "80f0787f-c5c7-4e42-b46e-b0acd1b4f90f",
   "metadata": {},
   "source": [
    "Show the name of this model."
   ]
  },
  {
   "cell_type": "code",
   "execution_count": null,
   "id": "2097c3b3-eb2b-4f1b-b79d-936b198dd439",
   "metadata": {},
   "outputs": [],
   "source": [
    "m.get_component_name()"
   ]
  },
  {
   "cell_type": "markdown",
   "id": "ab6887ca-eaf0-46b5-8666-8e27264c752f",
   "metadata": {},
   "source": [
    "Start the `Heat` model through its BMI using a configuration file."
   ]
  },
  {
   "cell_type": "code",
   "execution_count": null,
   "id": "ba740f4c-e458-44b9-b600-2b1a76f0e978",
   "metadata": {},
   "outputs": [],
   "source": [
    "m.initialize(str(CONFIG_FILE))"
   ]
  },
  {
   "cell_type": "markdown",
   "id": "21e50db1-fc88-4627-992d-f7ab390e7101",
   "metadata": {},
   "source": [
    "Show the input and output variables for the component."
   ]
  },
  {
   "cell_type": "code",
   "execution_count": null,
   "id": "e48268ad-7abe-4572-9967-555053e4fecf",
   "metadata": {},
   "outputs": [],
   "source": [
    "m.get_input_var_names(), m.get_output_var_names()"
   ]
  },
  {
   "cell_type": "markdown",
   "id": "f5608782-0445-43f6-99b7-51e40cead446",
   "metadata": {},
   "source": [
    "Check the time information for the model."
   ]
  },
  {
   "cell_type": "code",
   "execution_count": null,
   "id": "0bb0af6d-fa67-443e-af80-6b32eadb76b5",
   "metadata": {},
   "outputs": [],
   "source": [
    "print(\"Start time:\", m.get_start_time())\n",
    "print(\"End time:\", m.get_end_time())\n",
    "print(\"Current time:\", m.get_current_time())\n",
    "print(\"Time step:\", m.get_time_step())\n",
    "print(\"Time units:\", m.get_time_units())"
   ]
  },
  {
   "cell_type": "markdown",
   "id": "fa6efccb-adb1-484e-be85-1dfa336d8381",
   "metadata": {},
   "source": [
    "Get the identifier for the grid on which the temperature variable is defined."
   ]
  },
  {
   "cell_type": "code",
   "execution_count": null,
   "id": "8e7ffb63-48a8-452e-a023-1141209ef204",
   "metadata": {},
   "outputs": [],
   "source": [
    "grid_id = m.get_var_grid(\"plate_surface__temperature\")\n",
    "print(\"Grid id:\", grid_id)"
   ]
  },
  {
   "cell_type": "markdown",
   "id": "f1852344-0819-4484-966c-80c6ffdb2b65",
   "metadata": {},
   "source": [
    "Get grid attributes."
   ]
  },
  {
   "cell_type": "code",
   "execution_count": null,
   "id": "082776fa-e87f-4c8f-89e8-5bfdd05e72da",
   "metadata": {},
   "outputs": [],
   "source": [
    "print(\"Grid type:\", m.get_grid_type(grid_id))\n",
    "\n",
    "rank = m.get_grid_rank(grid_id)\n",
    "print(\"Grid rank:\", rank)\n",
    "\n",
    "shape = np.ndarray(rank, dtype=int)\n",
    "m.get_grid_shape(grid_id, shape)\n",
    "print(\"Grid shape:\", shape)\n",
    "\n",
    "spacing = np.ndarray(rank, dtype=float)\n",
    "m.get_grid_spacing(grid_id, spacing)\n",
    "print(\"Grid spacing:\", spacing)"
   ]
  },
  {
   "cell_type": "markdown",
   "id": "bddd7f4e-4d04-4ba5-a944-1c93202fb390",
   "metadata": {},
   "source": [
    "Through the model's BMI, zero out the initial temperature field, except for an\n",
    "impulse near the middle. Note that *set_value* expects a one-dimensional array\n",
    "for input."
   ]
  },
  {
   "cell_type": "code",
   "execution_count": null,
   "id": "44601779-4b97-4051-965b-9f67b77203e2",
   "metadata": {},
   "outputs": [],
   "source": [
    "temperature = np.zeros(shape)\n",
    "temperature[3, 4] = 100.0\n",
    "m.set_value(\"plate_surface__temperature\", temperature)"
   ]
  },
  {
   "cell_type": "markdown",
   "id": "974c47d8-f412-41bd-81e4-7b61f192050e",
   "metadata": {},
   "source": [
    "Check that the temperature field has been updated. Note that *get_value*\n",
    "expects a one-dimensional array to receive output."
   ]
  },
  {
   "cell_type": "code",
   "execution_count": null,
   "id": "40bbeb5f-b932-4438-871a-2fed6782f1f2",
   "metadata": {},
   "outputs": [],
   "source": [
    "temperature_flat = np.empty_like(temperature).flatten()\n",
    "m.get_value(\"plate_surface__temperature\", temperature_flat)\n",
    "\n",
    "temperature_flat.reshape(shape)"
   ]
  },
  {
   "cell_type": "markdown",
   "id": "f7497b70-a73f-470e-aa4d-1899a5d4a2ab",
   "metadata": {},
   "source": [
    "Advance the model by a single time step."
   ]
  },
  {
   "cell_type": "code",
   "execution_count": null,
   "id": "50e9f1e4-834d-4f0e-a0b3-e6f28d74866b",
   "metadata": {},
   "outputs": [],
   "source": [
    "m.update()"
   ]
  },
  {
   "cell_type": "markdown",
   "id": "a29e7d17-3726-4e7e-8926-6cb618332788",
   "metadata": {},
   "source": [
    "View the new state of the temperature field."
   ]
  },
  {
   "cell_type": "code",
   "execution_count": null,
   "id": "e03e2141-e016-455a-bb28-7c1f11d17b9f",
   "metadata": {},
   "outputs": [],
   "source": [
    "m.get_value(\"plate_surface__temperature\", temperature_flat)\n",
    "\n",
    "temperature_flat.reshape(shape)"
   ]
  },
  {
   "cell_type": "markdown",
   "id": "762bfd03-b219-47f8-968a-df21cde51342",
   "metadata": {},
   "source": [
    "Advance the model to some distant time."
   ]
  },
  {
   "cell_type": "code",
   "execution_count": null,
   "id": "0fb7a8a6-fd85-4694-80a4-c27d0965bf8c",
   "metadata": {},
   "outputs": [],
   "source": [
    "distant_time = 10*m.get_time_step()\n",
    "while m.get_current_time() < distant_time:\n",
    "    m.update()"
   ]
  },
  {
   "cell_type": "markdown",
   "id": "1079d0c6-9bee-4e53-b21f-413d9dcde3a3",
   "metadata": {},
   "source": [
    "View the final state of the temperature field."
   ]
  },
  {
   "cell_type": "code",
   "execution_count": null,
   "id": "016b854b-bf73-406b-96d9-1b4e32604a0e",
   "metadata": {},
   "outputs": [],
   "source": [
    "m.get_value(\"plate_surface__temperature\", temperature_flat)\n",
    "\n",
    "temperature_flat.reshape(shape)"
   ]
  },
  {
   "cell_type": "markdown",
   "id": "b8d91aee-ead3-4121-979e-cb8939c1a07b",
   "metadata": {},
   "source": [
    "Note that temperature isn't conserved on the plate."
   ]
  },
  {
   "cell_type": "code",
   "execution_count": null,
   "id": "a4a2c639-c286-4624-8844-18c174657cf2",
   "metadata": {},
   "outputs": [],
   "source": [
    "temperature_flat.sum()"
   ]
  },
  {
   "cell_type": "markdown",
   "id": "e5a25b9f-9006-4901-937b-9246041faaca",
   "metadata": {},
   "source": [
    "Stop the model and clean up any resources it allocates."
   ]
  },
  {
   "cell_type": "code",
   "execution_count": null,
   "id": "1668446a-0afa-4b7e-8d3b-137d8d4c4d4f",
   "metadata": {},
   "outputs": [],
   "source": [
    "m.finalize()"
   ]
  },
  {
   "cell_type": "markdown",
   "id": "291cb5ce-c081-490d-8256-dd90e1586a64",
   "metadata": {},
   "source": [
    "Stop the container running through grpc4bmi.\n",
    "This is needed by grpc4bmi to properly deallocate the resources it uses.\n",
    "It may take a few moments."
   ]
  },
  {
   "cell_type": "code",
   "execution_count": null,
   "id": "22039bd2-704b-4fb5-a7bc-8ed8eb6e4bff",
   "metadata": {},
   "outputs": [],
   "source": [
    "del m"
   ]
  }
 ],
 "metadata": {
  "kernelspec": {
   "display_name": "Python 3 (ipykernel)",
   "language": "python",
   "name": "python3"
  },
  "language_info": {
   "codemirror_mode": {
    "name": "ipython",
    "version": 3
   },
   "file_extension": ".py",
   "mimetype": "text/x-python",
   "name": "python",
   "nbconvert_exporter": "python",
   "pygments_lexer": "ipython3",
   "version": "3.12.7"
  }
 },
 "nbformat": 4,
 "nbformat_minor": 5
}
